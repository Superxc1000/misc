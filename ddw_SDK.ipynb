{
 "cells": [
  {
   "cell_type": "markdown",
   "metadata": {
    "extensions": {
     "jupyter_dashboards": {
      "version": 1,
      "views": {
       "grid_default": {
        "col": 0,
        "height": 22,
        "hidden": false,
        "row": 0,
        "width": 12
       },
       "report_default": {}
      }
     }
    }
   },
   "source": [
    "# data.world    \n",
    "![sparkle-shadow.png](https://data.world/api/nrippner/dataset/images/file/raw/sparkle-shadow.png)\n",
    "\n",
    "![python.jpg](https://data.world/api/nrippner/dataset/images/file/raw/python.jpg)\n",
    "\n",
    "# Getting Started with the data.world Python SDK\n",
    "\n",
    "### * Seamless integration with Python and R\n",
    "### * Effortlessly load data       \n",
    "### * SQL queries to pandas DataFrames \n",
    "### * data.world and python side by side -- a better way to store, retrieve, and explore your data.    \n",
    "---------------"
   ]
  },
  {
   "cell_type": "markdown",
   "metadata": {
    "extensions": {
     "jupyter_dashboards": {
      "version": 1,
      "views": {
       "grid_default": {
        "col": 0,
        "height": 4,
        "hidden": false,
        "row": 22,
        "width": 4
       },
       "report_default": {}
      }
     }
    }
   },
   "source": [
    "### Check to see if datadotworld is installed\n",
    "\n",
    "As of 5/12/2017, latest version is 1.1.0    "
   ]
  },
  {
   "cell_type": "code",
   "execution_count": 45,
   "metadata": {
    "ExecuteTime": {
     "end_time": "2017-05-08T23:06:37.861249Z",
     "start_time": "2017-05-08T18:06:37.101716-05:00"
    },
    "extensions": {
     "jupyter_dashboards": {
      "version": 1,
      "views": {
       "grid_default": {
        "col": 4,
        "height": 5,
        "hidden": false,
        "row": 22,
        "width": 4
       },
       "report_default": {}
      }
     }
    }
   },
   "outputs": [
    {
     "name": "stdout",
     "output_type": "stream",
     "text": [
      "\u001b[31mDEPRECATION: The default format will switch to columns in the future. You can use --format=(legacy|columns) (or define a format=(legacy|columns) in your pip.conf under the [list] section) to disable this warning.\u001b[0m\r\n",
      "datadotworld (1.1.0)\r\n"
     ]
    }
   ],
   "source": [
    "! pip list | grep datadotworld"
   ]
  },
  {
   "cell_type": "markdown",
   "metadata": {
    "extensions": {
     "jupyter_dashboards": {
      "version": 1,
      "views": {
       "grid_default": {
        "col": 0,
        "height": 4,
        "hidden": false,
        "row": 27,
        "width": 12
       },
       "report_default": {}
      }
     }
    }
   },
   "source": [
    "### Install or upgrade latest version of datadotworld package\n",
    "\n",
    "if upgrading, restart kernel after running    \n",
    "**pip install -- upgrade datadotworld**"
   ]
  },
  {
   "cell_type": "code",
   "execution_count": 46,
   "metadata": {
    "ExecuteTime": {
     "end_time": "2017-05-08T23:06:47.218607Z",
     "start_time": "2017-05-08T18:06:47.215312-05:00"
    },
    "collapsed": true,
    "extensions": {
     "jupyter_dashboards": {
      "version": 1,
      "views": {
       "grid_default": {
        "hidden": true
       },
       "report_default": {}
      }
     }
    }
   },
   "outputs": [],
   "source": [
    "#! pip install datadotworld\n",
    "#! pip install --upgrade datadotworld"
   ]
  },
  {
   "cell_type": "code",
   "execution_count": 47,
   "metadata": {
    "ExecuteTime": {
     "end_time": "2017-05-08T23:06:48.815866Z",
     "start_time": "2017-05-08T18:06:48.510271-05:00"
    },
    "extensions": {
     "jupyter_dashboards": {
      "version": 1,
      "views": {
       "grid_default": {
        "col": 8,
        "height": 4,
        "hidden": false,
        "row": 22,
        "width": 4
       },
       "report_default": {}
      }
     }
    }
   },
   "outputs": [
    {
     "name": "stdout",
     "output_type": "stream",
     "text": [
      "1.1.0\n"
     ]
    }
   ],
   "source": [
    "import datadotworld as ddw        # data.world SDK\n",
    "print(ddw.__version__)"
   ]
  },
  {
   "cell_type": "markdown",
   "metadata": {
    "extensions": {
     "jupyter_dashboards": {
      "version": 1,
      "views": {
       "grid_default": {
        "col": 0,
        "height": 8,
        "hidden": false,
        "row": 31,
        "width": 12
       },
       "report_default": {}
      }
     }
    }
   },
   "source": [
    "### Configure datadotworld using your personal data.world API token    \n",
    "This will add your API token to a local file in your computer's home directory. You only need to do this once.   \n",
    "Your authentication token can be obtained on data.world under [Settings > Advanced](https://data.world/settings/advanced)    \n",
    "     \n",
    "1. Copy your API token from [Settings > Advanced](https://data.world/settings/advanced)    \n",
    "2. Open a terminal and enter   \n",
    "   **dw configure**   \n",
    "3. Paste your API token and hit enter\n"
   ]
  },
  {
   "cell_type": "code",
   "execution_count": 52,
   "metadata": {
    "ExecuteTime": {
     "end_time": "2017-05-08T23:06:53.645702Z",
     "start_time": "2017-05-08T18:06:52.622643-05:00"
    },
    "extensions": {
     "jupyter_dashboards": {
      "version": 1,
      "views": {
       "grid_default": {
        "hidden": true
       },
       "report_default": {}
      }
     }
    }
   },
   "outputs": [],
   "source": [
    "# import python packages\n",
    "import pandas as pd               # data wrangling/analysis library\n",
    "import numpy as np                # math and data manipulation library\n",
    "import matplotlib.pyplot as plt   # data visualization library\n",
    "%matplotlib inline  \n",
    "from __future__ import print_function # Python 2 to 3 compatibility"
   ]
  },
  {
   "cell_type": "markdown",
   "metadata": {
    "extensions": {
     "jupyter_dashboards": {
      "version": 1,
      "views": {
       "grid_default": {
        "col": 0,
        "height": 4,
        "hidden": false,
        "row": 39,
        "width": 4
       },
       "report_default": {}
      }
     }
    }
   },
   "source": [
    "# Use the SDK to import data    \n",
    "## (!) There are a few different ways to load data with the data.world APIs/SDKs.  Below, we examine 3 different approaches to importing data into Python."
   ]
  },
  {
   "cell_type": "markdown",
   "metadata": {
    "extensions": {
     "jupyter_dashboards": {
      "version": 1,
      "views": {
       "grid_default": {
        "col": 0,
        "height": 4,
        "hidden": false,
        "row": 43,
        "width": 12
       },
       "report_default": {}
      }
     }
    }
   },
   "source": [
    "# 1. Load entire dataset    \n",
    "note: a data.world dataset is more than a just a datafile -- there may be multiple data files, as well as documentation, scripts, notebooks, or images.    "
   ]
  },
  {
   "cell_type": "code",
   "execution_count": 17,
   "metadata": {
    "ExecuteTime": {
     "end_time": "2017-05-08T23:06:57.075347Z",
     "start_time": "2017-05-08T18:06:56.582569-05:00"
    },
    "collapsed": true,
    "extensions": {
     "jupyter_dashboards": {
      "version": 1,
      "views": {
       "grid_default": {
        "hidden": true
       },
       "report_default": {}
      }
     }
    }
   },
   "outputs": [],
   "source": [
    "refugee_dataset = ddw.load_dataset('nrippner/refugee-host-nations')"
   ]
  },
  {
   "cell_type": "markdown",
   "metadata": {
    "extensions": {
     "jupyter_dashboards": {
      "version": 1,
      "views": {
       "grid_default": {
        "col": 4,
        "height": 4,
        "hidden": false,
        "row": 39,
        "width": 4
       },
       "report_default": {}
      }
     }
    }
   },
   "source": [
    "The *datadotworld load_dataset* method retrieves the dataset's metadata and lazy loads its contents."
   ]
  },
  {
   "cell_type": "code",
   "execution_count": 18,
   "metadata": {
    "ExecuteTime": {
     "end_time": "2017-05-08T23:07:01.532206Z",
     "start_time": "2017-05-08T18:07:01.527469-05:00"
    },
    "extensions": {
     "jupyter_dashboards": {
      "version": 1,
      "views": {
       "grid_default": {
        "col": 8,
        "height": 4,
        "hidden": false,
        "row": 39,
        "width": 4
       },
       "report_default": {}
      }
     }
    }
   },
   "outputs": [
    {
     "data": {
      "text/plain": [
       "56"
      ]
     },
     "execution_count": 18,
     "metadata": {},
     "output_type": "execute_result"
    }
   ],
   "source": [
    "import sys\n",
    "sys.getsizeof(refugee_dataset)"
   ]
  },
  {
   "cell_type": "markdown",
   "metadata": {
    "extensions": {
     "jupyter_dashboards": {
      "version": 1,
      "views": {
       "grid_default": {
        "col": 0,
        "height": 4,
        "hidden": false,
        "row": 47,
        "width": 4
       },
       "report_default": {}
      }
     }
    }
   },
   "source": [
    "Only 56 bytes...   \n",
    "    \n",
    "List all contents of dataset:"
   ]
  },
  {
   "cell_type": "code",
   "execution_count": 19,
   "metadata": {
    "ExecuteTime": {
     "end_time": "2017-05-08T23:07:05.072107Z",
     "start_time": "2017-05-08T18:07:05.064667-05:00"
    },
    "extensions": {
     "jupyter_dashboards": {
      "version": 1,
      "views": {
       "grid_default": {
        "col": 4,
        "height": 6,
        "hidden": false,
        "row": 47,
        "width": 4
       },
       "report_default": {}
      }
     }
    }
   },
   "outputs": [
    {
     "name": "stdout",
     "output_type": "stream",
     "text": [
      "name\n",
      "title\n",
      "description\n",
      "homepage\n",
      "resources\n",
      "keywords\n",
      "https://data.world/nrippner/refugee-host-nations\n"
     ]
    }
   ],
   "source": [
    "for i in refugee_dataset.describe():\n",
    "    print(i)\n",
    "contents = refugee_dataset.describe()\n",
    "print(contents['homepage'])"
   ]
  },
  {
   "cell_type": "markdown",
   "metadata": {
    "extensions": {
     "jupyter_dashboards": {
      "version": 1,
      "views": {
       "grid_default": {
        "col": 8,
        "height": 4,
        "hidden": false,
        "row": 47,
        "width": 4
       },
       "report_default": {}
      }
     }
    }
   },
   "source": [
    "List names of data files:    "
   ]
  },
  {
   "cell_type": "code",
   "execution_count": 20,
   "metadata": {
    "ExecuteTime": {
     "end_time": "2017-05-08T23:07:08.327073Z",
     "start_time": "2017-05-08T18:07:08.321030-05:00"
    },
    "extensions": {
     "jupyter_dashboards": {
      "version": 1,
      "views": {
       "grid_default": {
        "col": 0,
        "height": 9,
        "hidden": false,
        "row": 51,
        "width": 4
       },
       "report_default": {}
      }
     }
    }
   },
   "outputs": [
    {
     "name": "stdout",
     "output_type": "stream",
     "text": [
      "refugees2011-15\n",
      "refugees_all_years\n",
      "refugees_per_capita\n",
      "unhcr_2015\n",
      "unhcr_all\n",
      "worldbank_data_dict\n",
      "worldbank_indicators\n",
      "original/refugees2011-15.csv\n",
      "original/refugees_all_years.csv\n",
      "original/refugees_per_capita.csv\n",
      "original/unhcr_2015.csv\n",
      "original/unhcr_all.csv\n",
      "original/worldbank_data_dict.csv\n",
      "original/worldbank_indicators.csv\n"
     ]
    }
   ],
   "source": [
    "dataframes = refugee_dataset.dataframes\n",
    "for df in dataframes:\n",
    "    print(df)"
   ]
  },
  {
   "cell_type": "markdown",
   "metadata": {
    "extensions": {
     "jupyter_dashboards": {
      "version": 1,
      "views": {
       "grid_default": {
        "col": 8,
        "height": 4,
        "hidden": false,
        "row": 51,
        "width": 4
       },
       "report_default": {}
      }
     }
    }
   },
   "source": [
    "All files in dataset:"
   ]
  },
  {
   "cell_type": "code",
   "execution_count": 9,
   "metadata": {
    "ExecuteTime": {
     "end_time": "2017-05-08T23:07:10.627432Z",
     "start_time": "2017-05-08T18:07:10.617544-05:00"
    },
    "extensions": {
     "jupyter_dashboards": {
      "version": 1,
      "views": {
       "grid_default": {
        "col": 4,
        "height": 20,
        "hidden": false,
        "row": 53,
        "width": 4
       },
       "report_default": {}
      }
     }
    }
   },
   "outputs": [
    {
     "name": "stdout",
     "output_type": "stream",
     "text": [
      "name:\n",
      "refugees2011-15\n",
      "refugees_all_years\n",
      "refugees_per_capita\n",
      "unhcr_2015\n",
      "unhcr_all\n",
      "worldbank_data_dict\n",
      "worldbank_indicators\n",
      "original/Refugees.ipynb\n",
      "original/refs.py\n",
      "original/refugees2011-15.csv\n",
      "original/refugees_all_years.csv\n",
      "original/refugees_per_capita.csv\n",
      "original/unhcr_2015.csv\n",
      "original/unhcr_all.csv\n",
      "original/worldbank_data_dict.csv\n",
      "original/worldbank_indicators.csv\n",
      "\n",
      "type of file:\n",
      "csv\n",
      "csv\n",
      "csv\n",
      "csv\n",
      "csv\n",
      "csv\n",
      "csv\n",
      "ipynb\n",
      "py\n",
      "csv\n",
      "csv\n",
      "csv\n",
      "csv\n",
      "csv\n",
      "csv\n",
      "csv\n"
     ]
    }
   ],
   "source": [
    "resources = refugee_dataset.describe()['resources']\n",
    "print('name:')\n",
    "for r in resources:\n",
    "    print(r['name'])\n",
    "print('\\ntype of file:')\n",
    "for r in resources:\n",
    "    print(r['format'])"
   ]
  },
  {
   "cell_type": "markdown",
   "metadata": {
    "extensions": {
     "jupyter_dashboards": {
      "version": 1,
      "views": {
       "grid_default": {
        "col": 0,
        "height": 4,
        "hidden": false,
        "row": 60,
        "width": 4
       },
       "report_default": {}
      }
     }
    }
   },
   "source": [
    "Load a dataframe:"
   ]
  },
  {
   "cell_type": "code",
   "execution_count": 11,
   "metadata": {
    "ExecuteTime": {
     "end_time": "2017-05-08T23:07:22.408433Z",
     "start_time": "2017-05-08T18:07:18.674867-05:00"
    },
    "extensions": {
     "jupyter_dashboards": {
      "version": 1,
      "views": {
       "grid_default": {
        "col": 0,
        "height": 7,
        "hidden": false,
        "row": 73,
        "width": 5
       },
       "report_default": {}
      }
     }
    }
   },
   "outputs": [
    {
     "name": "stdout",
     "output_type": "stream",
     "text": [
      "(29560, 6)\n"
     ]
    },
    {
     "data": {
      "text/html": [
       "<div>\n",
       "<table border=\"1\" class=\"dataframe\">\n",
       "  <thead>\n",
       "    <tr style=\"text-align: right;\">\n",
       "      <th></th>\n",
       "      <th>Year</th>\n",
       "      <th>Country</th>\n",
       "      <th>Origin</th>\n",
       "      <th>Refugees</th>\n",
       "      <th>AsylumSeekers</th>\n",
       "      <th>TotalPop</th>\n",
       "    </tr>\n",
       "  </thead>\n",
       "  <tbody>\n",
       "    <tr>\n",
       "      <th>0</th>\n",
       "      <td>2011</td>\n",
       "      <td>Aruba</td>\n",
       "      <td>Colombia</td>\n",
       "      <td>NaN</td>\n",
       "      <td>3.0</td>\n",
       "      <td>3.0</td>\n",
       "    </tr>\n",
       "    <tr>\n",
       "      <th>1</th>\n",
       "      <td>2011</td>\n",
       "      <td>Aruba</td>\n",
       "      <td>Cuba</td>\n",
       "      <td>NaN</td>\n",
       "      <td>1.0</td>\n",
       "      <td>1.0</td>\n",
       "    </tr>\n",
       "    <tr>\n",
       "      <th>2</th>\n",
       "      <td>2011</td>\n",
       "      <td>Afghanistan</td>\n",
       "      <td>Afghanistan</td>\n",
       "      <td>NaN</td>\n",
       "      <td>NaN</td>\n",
       "      <td>1474167.0</td>\n",
       "    </tr>\n",
       "    <tr>\n",
       "      <th>3</th>\n",
       "      <td>2011</td>\n",
       "      <td>Afghanistan</td>\n",
       "      <td>Iran</td>\n",
       "      <td>34.0</td>\n",
       "      <td>25.0</td>\n",
       "      <td>59.0</td>\n",
       "    </tr>\n",
       "    <tr>\n",
       "      <th>4</th>\n",
       "      <td>2011</td>\n",
       "      <td>Afghanistan</td>\n",
       "      <td>Iraq</td>\n",
       "      <td>3.0</td>\n",
       "      <td>1.0</td>\n",
       "      <td>4.0</td>\n",
       "    </tr>\n",
       "  </tbody>\n",
       "</table>\n",
       "</div>"
      ],
      "text/plain": [
       "   Year      Country       Origin  Refugees  AsylumSeekers   TotalPop\n",
       "0  2011        Aruba     Colombia       NaN            3.0        3.0\n",
       "1  2011        Aruba         Cuba       NaN            1.0        1.0\n",
       "2  2011  Afghanistan  Afghanistan       NaN            NaN  1474167.0\n",
       "3  2011  Afghanistan         Iran      34.0           25.0       59.0\n",
       "4  2011  Afghanistan         Iraq       3.0            1.0        4.0"
      ]
     },
     "execution_count": 11,
     "metadata": {},
     "output_type": "execute_result"
    }
   ],
   "source": [
    "df11_15 = dataframes['refugees2011-15']\n",
    "\n",
    "print(df11_15.shape)\n",
    "df11_15.head()"
   ]
  },
  {
   "attachments": {},
   "cell_type": "markdown",
   "metadata": {
    "collapsed": true,
    "extensions": {
     "jupyter_dashboards": {
      "version": 1,
      "views": {
       "grid_default": {
        "hidden": true
       },
       "report_default": {}
      }
     }
    }
   },
   "source": [
    "# 2. Query a dataset   \n",
    "    \n",
    "Go to https://data.world/nrippner/refugee-host-nations    \n",
    "    \n",
    "Open 'unhcr_all.csv' in full screen explore mode ![Screen Shot 2017-05-08 at 6.22.40 PM.png](https://data.world/api/nrippner/dataset/images/file/raw/Screen%20Shot%202017-05-08%20at%206.22.40%20PM.png) \n",
    "\n",
    "Write an SQL query to extract all records from the year 2010. A couple things to keep in mind when writing your SQL query. Open the query editor and use the schema tool to help format the elements of your query. (note: a new release is coming very soon which will greatly simplify the syntax for the identifiers used in queries). Test your query out in the editor.         \n",
    "![Screen Shot 2017-05-08 at 6.36.21 PM.png](https://data.world/api/nrippner/dataset/images/file/raw/Screen%20Shot%202017-05-08%20at%206.36.21%20PM.png)"
   ]
  },
  {
   "cell_type": "code",
   "execution_count": 43,
   "metadata": {
    "code_folding": [],
    "extensions": {
     "jupyter_dashboards": {
      "version": 1,
      "views": {
       "grid_default": {
        "col": 0,
        "height": 10,
        "hidden": false,
        "row": 80,
        "width": 9
       },
       "report_default": {}
      }
     }
    }
   },
   "outputs": [
    {
     "name": "stdout",
     "output_type": "stream",
     "text": [
      "(5902, 11)\n"
     ]
    },
    {
     "data": {
      "text/html": [
       "<div>\n",
       "<table border=\"1\" class=\"dataframe\">\n",
       "  <thead>\n",
       "    <tr style=\"text-align: right;\">\n",
       "      <th></th>\n",
       "      <th>Year</th>\n",
       "      <th>Country / territory of asylum/residence</th>\n",
       "      <th>Origin</th>\n",
       "      <th>Refugees (incl. refugee-like situations)</th>\n",
       "      <th>Asylum-seekers (pending cases)</th>\n",
       "      <th>Returned refugees</th>\n",
       "      <th>Internally displaced persons (IDPs)</th>\n",
       "      <th>Returned IDPs</th>\n",
       "      <th>Stateless persons</th>\n",
       "      <th>Others of concern</th>\n",
       "      <th>Total Population</th>\n",
       "    </tr>\n",
       "  </thead>\n",
       "  <tbody>\n",
       "    <tr>\n",
       "      <th>0</th>\n",
       "      <td>2010</td>\n",
       "      <td>Aruba</td>\n",
       "      <td>Colombia</td>\n",
       "      <td>None</td>\n",
       "      <td>1</td>\n",
       "      <td>None</td>\n",
       "      <td>None</td>\n",
       "      <td>None</td>\n",
       "      <td>None</td>\n",
       "      <td>None</td>\n",
       "      <td>1</td>\n",
       "    </tr>\n",
       "    <tr>\n",
       "      <th>1</th>\n",
       "      <td>2010</td>\n",
       "      <td>Afghanistan</td>\n",
       "      <td>Afghanistan</td>\n",
       "      <td>None</td>\n",
       "      <td>None</td>\n",
       "      <td>None</td>\n",
       "      <td>351907</td>\n",
       "      <td>3366</td>\n",
       "      <td>None</td>\n",
       "      <td>838250</td>\n",
       "      <td>1193523</td>\n",
       "    </tr>\n",
       "    <tr>\n",
       "      <th>2</th>\n",
       "      <td>2010</td>\n",
       "      <td>Afghanistan</td>\n",
       "      <td>Iran (Islamic Rep. of)</td>\n",
       "      <td>30</td>\n",
       "      <td>21</td>\n",
       "      <td>None</td>\n",
       "      <td>None</td>\n",
       "      <td>None</td>\n",
       "      <td>None</td>\n",
       "      <td>None</td>\n",
       "      <td>51</td>\n",
       "    </tr>\n",
       "    <tr>\n",
       "      <th>3</th>\n",
       "      <td>2010</td>\n",
       "      <td>Afghanistan</td>\n",
       "      <td>Iraq</td>\n",
       "      <td>6</td>\n",
       "      <td>0</td>\n",
       "      <td>None</td>\n",
       "      <td>None</td>\n",
       "      <td>None</td>\n",
       "      <td>None</td>\n",
       "      <td>None</td>\n",
       "      <td>6</td>\n",
       "    </tr>\n",
       "    <tr>\n",
       "      <th>4</th>\n",
       "      <td>2010</td>\n",
       "      <td>Afghanistan</td>\n",
       "      <td>Pakistan</td>\n",
       "      <td>6398</td>\n",
       "      <td>9</td>\n",
       "      <td>None</td>\n",
       "      <td>None</td>\n",
       "      <td>None</td>\n",
       "      <td>None</td>\n",
       "      <td>None</td>\n",
       "      <td>6407</td>\n",
       "    </tr>\n",
       "  </tbody>\n",
       "</table>\n",
       "</div>"
      ],
      "text/plain": [
       "   Year Country / territory of asylum/residence                  Origin  \\\n",
       "0  2010                                   Aruba                Colombia   \n",
       "1  2010                             Afghanistan             Afghanistan   \n",
       "2  2010                             Afghanistan  Iran (Islamic Rep. of)   \n",
       "3  2010                             Afghanistan                    Iraq   \n",
       "4  2010                             Afghanistan                Pakistan   \n",
       "\n",
       "  Refugees (incl. refugee-like situations) Asylum-seekers (pending cases)  \\\n",
       "0                                     None                              1   \n",
       "1                                     None                           None   \n",
       "2                                       30                             21   \n",
       "3                                        6                              0   \n",
       "4                                     6398                              9   \n",
       "\n",
       "  Returned refugees Internally displaced persons (IDPs) Returned IDPs  \\\n",
       "0              None                                None          None   \n",
       "1              None                              351907          3366   \n",
       "2              None                                None          None   \n",
       "3              None                                None          None   \n",
       "4              None                                None          None   \n",
       "\n",
       "  Stateless persons Others of concern Total Population  \n",
       "0              None              None                1  \n",
       "1              None            838250          1193523  \n",
       "2              None              None               51  \n",
       "3              None              None                6  \n",
       "4              None              None             6407  "
      ]
     },
     "execution_count": 43,
     "metadata": {},
     "output_type": "execute_result"
    }
   ],
   "source": [
    "query2010 = ddw.query('nrippner/refugee-host-nations',\n",
    "                     '''SELECT * FROM `unhcr_all.csv/unhcr_all`\n",
    "                        WHERE `unhcr_all.csv/unhcr_all`.Year = 2010''')\n",
    "unhcr2010 = query2010.dataframe\n",
    "print(unhcr2010.shape)\n",
    "unhcr2010.head()"
   ]
  },
  {
   "attachments": {},
   "cell_type": "markdown",
   "metadata": {
    "extensions": {
     "jupyter_dashboards": {
      "version": 1,
      "views": {
       "grid_default": {
        "col": 0,
        "height": 35,
        "hidden": false,
        "row": 90,
        "width": 12
       },
       "report_default": {}
      }
     }
    }
   },
   "source": [
    "You can also export your query directly from the query editor. Simply click and paste into a cell in your notebook:    \n",
    "![Screen Shot 2017-05-08 at 6.47.48 PM.png](https://data.world/api/nrippner/dataset/images/file/raw/Screen%20Shot%202017-05-08%20at%206.47.48%20PM.png)  \n"
   ]
  },
  {
   "cell_type": "code",
   "execution_count": 44,
   "metadata": {
    "extensions": {
     "jupyter_dashboards": {
      "version": 1,
      "views": {
       "grid_default": {
        "col": 0,
        "height": 9,
        "hidden": false,
        "row": 125,
        "width": 9
       },
       "report_default": {}
      }
     }
    }
   },
   "outputs": [
    {
     "data": {
      "text/html": [
       "<div>\n",
       "<table border=\"1\" class=\"dataframe\">\n",
       "  <thead>\n",
       "    <tr style=\"text-align: right;\">\n",
       "      <th></th>\n",
       "      <th>Year</th>\n",
       "      <th>Country / territory of asylum/residence</th>\n",
       "      <th>Origin</th>\n",
       "      <th>Refugees (incl. refugee-like situations)</th>\n",
       "      <th>Asylum-seekers (pending cases)</th>\n",
       "      <th>Returned refugees</th>\n",
       "      <th>Internally displaced persons (IDPs)</th>\n",
       "      <th>Returned IDPs</th>\n",
       "      <th>Stateless persons</th>\n",
       "      <th>Others of concern</th>\n",
       "      <th>Total Population</th>\n",
       "    </tr>\n",
       "  </thead>\n",
       "  <tbody>\n",
       "    <tr>\n",
       "      <th>0</th>\n",
       "      <td>2010</td>\n",
       "      <td>Aruba</td>\n",
       "      <td>Colombia</td>\n",
       "      <td>NaN</td>\n",
       "      <td>1.0</td>\n",
       "      <td>NaN</td>\n",
       "      <td>NaN</td>\n",
       "      <td>NaN</td>\n",
       "      <td>NaN</td>\n",
       "      <td>NaN</td>\n",
       "      <td>1</td>\n",
       "    </tr>\n",
       "    <tr>\n",
       "      <th>1</th>\n",
       "      <td>2010</td>\n",
       "      <td>Afghanistan</td>\n",
       "      <td>Afghanistan</td>\n",
       "      <td>NaN</td>\n",
       "      <td>NaN</td>\n",
       "      <td>NaN</td>\n",
       "      <td>351907.0</td>\n",
       "      <td>3366.0</td>\n",
       "      <td>NaN</td>\n",
       "      <td>838250.0</td>\n",
       "      <td>1193523</td>\n",
       "    </tr>\n",
       "    <tr>\n",
       "      <th>2</th>\n",
       "      <td>2010</td>\n",
       "      <td>Afghanistan</td>\n",
       "      <td>Iran (Islamic Rep. of)</td>\n",
       "      <td>30.0</td>\n",
       "      <td>21.0</td>\n",
       "      <td>NaN</td>\n",
       "      <td>NaN</td>\n",
       "      <td>NaN</td>\n",
       "      <td>NaN</td>\n",
       "      <td>NaN</td>\n",
       "      <td>51</td>\n",
       "    </tr>\n",
       "    <tr>\n",
       "      <th>3</th>\n",
       "      <td>2010</td>\n",
       "      <td>Afghanistan</td>\n",
       "      <td>Iraq</td>\n",
       "      <td>6.0</td>\n",
       "      <td>0.0</td>\n",
       "      <td>NaN</td>\n",
       "      <td>NaN</td>\n",
       "      <td>NaN</td>\n",
       "      <td>NaN</td>\n",
       "      <td>NaN</td>\n",
       "      <td>6</td>\n",
       "    </tr>\n",
       "    <tr>\n",
       "      <th>4</th>\n",
       "      <td>2010</td>\n",
       "      <td>Afghanistan</td>\n",
       "      <td>Pakistan</td>\n",
       "      <td>6398.0</td>\n",
       "      <td>9.0</td>\n",
       "      <td>NaN</td>\n",
       "      <td>NaN</td>\n",
       "      <td>NaN</td>\n",
       "      <td>NaN</td>\n",
       "      <td>NaN</td>\n",
       "      <td>6407</td>\n",
       "    </tr>\n",
       "  </tbody>\n",
       "</table>\n",
       "</div>"
      ],
      "text/plain": [
       "   Year Country / territory of asylum/residence                  Origin  \\\n",
       "0  2010                                   Aruba                Colombia   \n",
       "1  2010                             Afghanistan             Afghanistan   \n",
       "2  2010                             Afghanistan  Iran (Islamic Rep. of)   \n",
       "3  2010                             Afghanistan                    Iraq   \n",
       "4  2010                             Afghanistan                Pakistan   \n",
       "\n",
       "   Refugees (incl. refugee-like situations)  Asylum-seekers (pending cases)  \\\n",
       "0                                       NaN                             1.0   \n",
       "1                                       NaN                             NaN   \n",
       "2                                      30.0                            21.0   \n",
       "3                                       6.0                             0.0   \n",
       "4                                    6398.0                             9.0   \n",
       "\n",
       "   Returned refugees  Internally displaced persons (IDPs)  Returned IDPs  \\\n",
       "0                NaN                                  NaN            NaN   \n",
       "1                NaN                             351907.0         3366.0   \n",
       "2                NaN                                  NaN            NaN   \n",
       "3                NaN                                  NaN            NaN   \n",
       "4                NaN                                  NaN            NaN   \n",
       "\n",
       "   Stateless persons  Others of concern  Total Population  \n",
       "0                NaN                NaN                 1  \n",
       "1                NaN           838250.0           1193523  \n",
       "2                NaN                NaN                51  \n",
       "3                NaN                NaN                 6  \n",
       "4                NaN                NaN              6407  "
      ]
     },
     "execution_count": 44,
     "metadata": {},
     "output_type": "execute_result"
    }
   ],
   "source": [
    "df = pd.read_csv('https://query.data.world/s/9zyo00t5auv1ifob9nmusnprs')\n",
    "df.head()"
   ]
  },
  {
   "attachments": {},
   "cell_type": "markdown",
   "metadata": {
    "extensions": {
     "jupyter_dashboards": {
      "version": 1,
      "views": {
       "grid_default": {
        "col": 8,
        "height": 4,
        "hidden": false,
        "row": 55,
        "width": 4
       },
       "report_default": {}
      }
     }
    }
   },
   "source": [
    "# 3. Copy and paste pandas code    \n",
    "\n",
    "![Screen Shot 2017-05-09 at 10.18.25 AM.png](https://data.world/api/nrippner/dataset/images/file/raw/Screen%20Shot%202017-05-09%20at%2010.18.25%20AM.png)"
   ]
  },
  {
   "cell_type": "code",
   "execution_count": 50,
   "metadata": {
    "collapsed": true,
    "extensions": {
     "jupyter_dashboards": {
      "version": 1,
      "views": {
       "grid_default": {
        "hidden": true
       },
       "report_default": {}
      }
     }
    }
   },
   "outputs": [],
   "source": [
    "df = pd.read_csv('https://query.data.world/s/2ptnfvs9v14cyg70e4hl4q8ug')"
   ]
  },
  {
   "cell_type": "code",
   "execution_count": 51,
   "metadata": {
    "extensions": {
     "jupyter_dashboards": {
      "version": 1,
      "views": {
       "grid_default": {
        "hidden": true
       },
       "report_default": {}
      }
     }
    }
   },
   "outputs": [
    {
     "name": "stdout",
     "output_type": "stream",
     "text": [
      "(29560, 6)\n"
     ]
    },
    {
     "data": {
      "text/html": [
       "<div>\n",
       "<table border=\"1\" class=\"dataframe\">\n",
       "  <thead>\n",
       "    <tr style=\"text-align: right;\">\n",
       "      <th></th>\n",
       "      <th>Year</th>\n",
       "      <th>Country</th>\n",
       "      <th>Origin</th>\n",
       "      <th>Refugees</th>\n",
       "      <th>AsylumSeekers</th>\n",
       "      <th>TotalPop</th>\n",
       "    </tr>\n",
       "  </thead>\n",
       "  <tbody>\n",
       "    <tr>\n",
       "      <th>0</th>\n",
       "      <td>2011</td>\n",
       "      <td>Aruba</td>\n",
       "      <td>Colombia</td>\n",
       "      <td>NaN</td>\n",
       "      <td>3.0</td>\n",
       "      <td>3.0</td>\n",
       "    </tr>\n",
       "    <tr>\n",
       "      <th>1</th>\n",
       "      <td>2011</td>\n",
       "      <td>Aruba</td>\n",
       "      <td>Cuba</td>\n",
       "      <td>NaN</td>\n",
       "      <td>1.0</td>\n",
       "      <td>1.0</td>\n",
       "    </tr>\n",
       "    <tr>\n",
       "      <th>2</th>\n",
       "      <td>2011</td>\n",
       "      <td>Afghanistan</td>\n",
       "      <td>Afghanistan</td>\n",
       "      <td>NaN</td>\n",
       "      <td>NaN</td>\n",
       "      <td>1474167.0</td>\n",
       "    </tr>\n",
       "    <tr>\n",
       "      <th>3</th>\n",
       "      <td>2011</td>\n",
       "      <td>Afghanistan</td>\n",
       "      <td>Iran</td>\n",
       "      <td>34.0</td>\n",
       "      <td>25.0</td>\n",
       "      <td>59.0</td>\n",
       "    </tr>\n",
       "    <tr>\n",
       "      <th>4</th>\n",
       "      <td>2011</td>\n",
       "      <td>Afghanistan</td>\n",
       "      <td>Iraq</td>\n",
       "      <td>3.0</td>\n",
       "      <td>1.0</td>\n",
       "      <td>4.0</td>\n",
       "    </tr>\n",
       "  </tbody>\n",
       "</table>\n",
       "</div>"
      ],
      "text/plain": [
       "   Year      Country       Origin  Refugees  AsylumSeekers   TotalPop\n",
       "0  2011        Aruba     Colombia       NaN            3.0        3.0\n",
       "1  2011        Aruba         Cuba       NaN            1.0        1.0\n",
       "2  2011  Afghanistan  Afghanistan       NaN            NaN  1474167.0\n",
       "3  2011  Afghanistan         Iran      34.0           25.0       59.0\n",
       "4  2011  Afghanistan         Iraq       3.0            1.0        4.0"
      ]
     },
     "execution_count": 51,
     "metadata": {},
     "output_type": "execute_result"
    }
   ],
   "source": [
    "print(df.shape)\n",
    "df.head()"
   ]
  }
 ],
 "metadata": {
  "extensions": {
   "jupyter_dashboards": {
    "activeView": "grid_default",
    "version": 1,
    "views": {
     "grid_default": {
      "cellMargin": 10,
      "defaultCellHeight": 20,
      "maxColumns": 12,
      "name": "grid",
      "type": "grid"
     },
     "report_default": {
      "name": "report",
      "type": "report"
     }
    }
   }
  },
  "kernelspec": {
   "display_name": "Python 3",
   "language": "python",
   "name": "python3"
  },
  "language_info": {
   "codemirror_mode": {
    "name": "ipython",
    "version": 3
   },
   "file_extension": ".py",
   "mimetype": "text/x-python",
   "name": "python",
   "nbconvert_exporter": "python",
   "pygments_lexer": "ipython3",
   "version": "3.6.1"
  },
  "varInspector": {
   "cols": {
    "lenName": 16,
    "lenType": 16,
    "lenVar": 40
   },
   "kernels_config": {
    "python": {
     "delete_cmd_postfix": "",
     "delete_cmd_prefix": "del ",
     "library": "var_list.py",
     "varRefreshCmd": "print(var_dic_list())"
    },
    "r": {
     "delete_cmd_postfix": ") ",
     "delete_cmd_prefix": "rm(",
     "library": "var_list.r",
     "varRefreshCmd": "cat(var_dic_list()) "
    }
   },
   "position": {
    "height": "429px",
    "left": "143.438px",
    "right": "20px",
    "top": "170.972px",
    "width": "475px"
   },
   "types_to_exclude": [
    "module",
    "function",
    "builtin_function_or_method",
    "instance",
    "_Feature"
   ],
   "window_display": false
  }
 },
 "nbformat": 4,
 "nbformat_minor": 2
}
